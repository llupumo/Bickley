{
 "cells": [
  {
   "cell_type": "code",
   "execution_count": 7,
   "metadata": {},
   "outputs": [
    {
     "name": "stdout",
     "output_type": "stream",
     "text": [
      "Keys in the .mat file: dict_keys(['__header__', '__version__', '__globals__', 'u', 'v', 'x', 'y', 't'])\n",
      "Shape of u: (50, 2002, 20)\n",
      "Shape of v: (50, 2002, 20)\n",
      "Shape of x: (1, 2002)\n",
      "Shape of y: (1, 50)\n",
      "Shape of t: (1, 20)\n",
      "First few values of x: [[-200150.86796021 -199950.86796021 -199750.86796021 ...  199649.13203979\n",
      "   199849.13203979  200049.13203979]]\n"
     ]
    }
   ],
   "source": [
    "from scipy.io import loadmat\n",
    "# Load the .mat file\n",
    "data = loadmat('/home/llu/Desktop/TBarrier-main/TBarrier/2D/data/Bickley/Bickley.mat')\n",
    "# Inspect the keys in the loaded data\n",
    "print(\"Keys in the .mat file:\", data.keys())\n",
    "# Access the variables\n",
    "U = data['u']\n",
    "V = data['v']\n",
    "x = data['x']\n",
    "y = data['y']\n",
    "time_data = data['t']\n",
    "# Print the shapes of the variables\n",
    "print(\"Shape of u:\", U.shape)\n",
    "print(\"Shape of v:\", V.shape)\n",
    "print(\"Shape of x:\", x.shape)\n",
    "print(\"Shape of y:\", y.shape)\n",
    "print(\"Shape of t:\", time_data.shape)\n",
    "# Example: Access specific data\n",
    "print(\"First few values of x:\", x[:5])"
   ]
  }
 ],
 "metadata": {
  "kernelspec": {
   "display_name": "my_venv",
   "language": "python",
   "name": "python3"
  },
  "language_info": {
   "codemirror_mode": {
    "name": "ipython",
    "version": 3
   },
   "file_extension": ".py",
   "mimetype": "text/x-python",
   "name": "python",
   "nbconvert_exporter": "python",
   "pygments_lexer": "ipython3",
   "version": "3.10.8"
  }
 },
 "nbformat": 4,
 "nbformat_minor": 2
}
